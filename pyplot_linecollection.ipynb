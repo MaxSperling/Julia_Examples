{
 "cells": [
  {
   "cell_type": "code",
   "execution_count": 1,
   "metadata": {
    "collapsed": false
   },
   "outputs": [
    {
     "data": {
      "text/plain": [
       "PyObject <matplotlib.collections.LineCollection object at 0x7f59576a1a90>"
      ]
     },
     "execution_count": 1,
     "metadata": {},
     "output_type": "execute_result"
    }
   ],
   "source": [
    "# linecollection.jl\n",
    "#\n",
    "#   Line Collection plot example\n",
    "#\n",
    "# Julia 0.4.5\n",
    "# 10.06.2016\n",
    "# Last Edit: 13.06.2016\n",
    "\n",
    "# Reference: David P. Sanders - https://groups.google.com/d/msg/julia-users/BGcEOZVw8YU/Oacy1O5zBQAJ\n",
    "\n",
    "using PyPlot\n",
    "\n",
    "####################\n",
    "##  Prepare Data  ##\n",
    "####################\n",
    "# lines = Any array of tuples of floating point pairs\n",
    "\n",
    "# First Segment Group\n",
    "xs = [1.,3.,5.,0.]\n",
    "ys = [2.,4.,.06,0.]\n",
    "lines = Any[collect(zip(xs,ys))]\n",
    "# lines = [(1.0,2.0),(3.0,4.0),(5.0,0.06),(0.0,0.0)]\n",
    "\n",
    "# Second Segment Group\n",
    "xs = [3.,4]\n",
    "ys = [5.,6]\n",
    "push!(lines,collect(zip(xs,ys)))\n",
    "\n",
    "# Third Segment Group\n",
    "xs = [8.,2]\n",
    "ys = [2.,4]\n",
    "push!(lines,collect(zip(xs,ys)))\n",
    "\n",
    "##############\n",
    "##  Colors  ##\n",
    "##############\n",
    "# Line segments will be plotted with the following order of colors and will\n",
    "# cycle back to the beginning of the array when it has gone through all of them\n",
    "c = Vector{Int}[[1,0,0],[0,1,0],[0,0,1]]\n",
    "\n",
    "# Assemble everything into a LineCollection\n",
    "line_segments = matplotlib[:collections][:LineCollection](lines,colors=c)"
   ]
  },
  {
   "cell_type": "code",
   "execution_count": 6,
   "metadata": {
    "collapsed": false
   },
   "outputs": [
    {
     "data": {
      "text/plain": [
       "(0.04032258064516128,1.2903225806451613,0.08333333333333333,1.75)"
      ]
     },
     "execution_count": 6,
     "metadata": {},
     "output_type": "execute_result"
    }
   ],
   "source": [
    "############\n",
    "##  Plot  ##\n",
    "############\n",
    "fig = figure(\"Line Collection Example\")\n",
    "ax = axes()\n",
    "ax[:add_collection](line_segments)\n",
    "axis(\"image\")\n",
    "axis(\"tight\")"
   ]
  },
  {
   "cell_type": "code",
   "execution_count": null,
   "metadata": {
    "collapsed": true
   },
   "outputs": [],
   "source": []
  }
 ],
 "metadata": {
  "kernelspec": {
   "display_name": "Julia 0.4.5",
   "language": "julia",
   "name": "julia-0.4"
  },
  "language_info": {
   "file_extension": ".jl",
   "mimetype": "application/julia",
   "name": "julia",
   "version": "0.4.5"
  }
 },
 "nbformat": 4,
 "nbformat_minor": 0
}
